{
 "cells": [
  {
   "cell_type": "markdown",
   "id": "7efb3c6c-e3c8-48ca-a3db-31166b814f9c",
   "metadata": {},
   "source": [
    "Q1. What is Abstraction in OOps? Explain with an example."
   ]
  },
  {
   "cell_type": "markdown",
   "id": "0776b398-5dc8-40a5-9d99-f32d73cdf14a",
   "metadata": {},
   "source": [
    "Abstraction is used to hide the internal functionality of the function from the users. The users only interact with the basic implementation of the function, but inner working is hidden. User is familiar with that \"what function does\" but they don't know \"how it does.\"\n",
    "\n",
    "In Python, an abstraction is used to hide the irrelevant data/class in order to reduce the complexity. It also enhances the application efficiency.\n",
    "\n",
    "In Python, an abstraction is used to hide the irrelevant data/class in order to reduce the complexity. It also enhances the application efficiency.\n",
    "\n",
    "In Python, an abstraction is used to hide the irrelevant data/class in order to reduce the complexity. It also enhances the application efficiency."
   ]
  },
  {
   "cell_type": "code",
   "execution_count": 14,
   "id": "7651f8d0-e3e0-4b34-96c4-de99f99ff94e",
   "metadata": {},
   "outputs": [],
   "source": [
    "import abc\n",
    "class abstract :\n",
    "    @abc.abstractmethod\n",
    "    def student_detail(self):\n",
    "        pass\n",
    "    @abc.abstractmethod\n",
    "    def student_address(self):\n",
    "        pass\n",
    "class implementation1(abstract) :\n",
    "    def __init__(self,name, age):\n",
    "        self.name = name\n",
    "        self.age = age\n",
    "    def student_detail (self):\n",
    "        print (\"name is \", self.name ,\"and age is \", self.age)\n",
    "class implementation2(abstract):\n",
    "    def __init__(self,address, country):\n",
    "        self.address = address\n",
    "        self.country = country   \n",
    "    def student_address(self):\n",
    "        print (\"address is \",self.address,self.country )"
   ]
  },
  {
   "cell_type": "code",
   "execution_count": 16,
   "id": "583a6c31-8b80-4c7a-8e63-eb7ecda086b8",
   "metadata": {},
   "outputs": [
    {
     "name": "stdout",
     "output_type": "stream",
     "text": [
      "name is  shivangi and age is  24\n",
      "address is  Bhopal India\n"
     ]
    }
   ],
   "source": [
    "student1 = implementation1(\"shivangi\",\"24\")\n",
    "student1.student_detail()\n",
    "student1 = implementation2(\"Bhopal\",\"India\")\n",
    "student1.student_address()"
   ]
  },
  {
   "cell_type": "markdown",
   "id": "3ba493e4-ca90-41f3-bfa0-a7e0f7c32af9",
   "metadata": {},
   "source": [
    "Q2. Differentiate between Abstraction and Encapsulation. Explain with an example."
   ]
  },
  {
   "cell_type": "markdown",
   "id": "12720f69-f95b-4519-ae97-6b6cb6449f5b",
   "metadata": {},
   "source": [
    "Abstraction hides the irrelevant details found in the code, whereas Encapsulation helps developers to organize the entire code easily.\n",
    "\n",
    "Abstraction shows only useful data by providing the most necessary details, whereas Encapsulation wraps code and data for necessary information.\n",
    "\n",
    "Encapsulation-\n",
    "It describes the idea of wrapping data and the methods that work on data within one unit. This puts restrictions on accessing variables and methods directly and can prevent the accidental modification of data.\n"
   ]
  },
  {
   "cell_type": "code",
   "execution_count": 3,
   "id": "4436a8af-a058-4af4-9227-098c24311161",
   "metadata": {},
   "outputs": [
    {
     "data": {
      "text/plain": [
       "1200"
      ]
     },
     "execution_count": 3,
     "metadata": {},
     "output_type": "execute_result"
    }
   ],
   "source": [
    "#example of encapsulation\n",
    "class bank_account:\n",
    "    def __init__(self,balance):\n",
    "        #self__balance is a private member it uses (__)\n",
    "        self.__balance = balance\n",
    "    def deposits (self, deposit):\n",
    "        #self.deposit is a public member by default\n",
    "        self.deposit =deposit \n",
    "        self.__balance = self.__balance + self.deposit\n",
    "    def withdrawing (self, withdraw):\n",
    "        if  self.__balance >= withdraw:\n",
    "           # self._withdraw is a private method it uses (_)\n",
    "            self._withdraw = withdraw\n",
    "            self.__balance = self.__balance - self._withdraw\n",
    "            return True\n",
    "        else:\n",
    "            return False\n",
    "        \n",
    "    def get_balance (self):\n",
    "        return (self.__balance)\n",
    "account_1 = bank_account(1000)\n",
    "account_1.deposits(500)\n",
    "account_1.withdrawing(300)\n",
    "account_1.get_balance()"
   ]
  },
  {
   "cell_type": "markdown",
   "id": "344abf86-b18d-442b-96d4-f33b2e396565",
   "metadata": {},
   "source": [
    "Abstraction-\n",
    "Abstraction helps in reducing programming efforts and reduce coding complexity.\n",
    "It is used to hide unwanted details from the user.\n",
    "It allows focusing on the main concept."
   ]
  },
  {
   "cell_type": "code",
   "execution_count": 4,
   "id": "63d75060-91c8-4d41-b12d-8537a037b21f",
   "metadata": {},
   "outputs": [
    {
     "name": "stdout",
     "output_type": "stream",
     "text": [
      "name is  shivangi and age is  24\n",
      "address is  Bhopal India\n"
     ]
    }
   ],
   "source": [
    "#example of abstraction\n",
    "import abc\n",
    "class abstract :\n",
    "    @abc.abstractmethod\n",
    "    def student_detail(self):\n",
    "        pass\n",
    "    @abc.abstractmethod\n",
    "    def student_address(self):\n",
    "        pass\n",
    "class implementation1(abstract) :\n",
    "    def __init__(self,name, age):\n",
    "        self.name = name\n",
    "        self.age = age\n",
    "    def student_detail (self):\n",
    "        print (\"name is \", self.name ,\"and age is \", self.age)\n",
    "class implementation2(abstract):\n",
    "    def __init__(self,address, country):\n",
    "        self.address = address\n",
    "        self.country = country   \n",
    "    def student_address(self):\n",
    "        print (\"address is \",self.address,self.country )\n",
    "\n",
    "        \n",
    "student1 = implementation1(\"shivangi\",\"24\")\n",
    "student1.student_detail()\n",
    "student1 = implementation2(\"Bhopal\",\"India\")\n",
    "student1.student_address()"
   ]
  },
  {
   "cell_type": "markdown",
   "id": "81d52204-0c7f-47af-b317-5dd8aa3d5e6f",
   "metadata": {},
   "source": [
    "Q3. What is abc module in python? Why is it used?"
   ]
  },
  {
   "cell_type": "markdown",
   "id": "337ca155-289a-4704-902d-7b51b530bb78",
   "metadata": {},
   "source": [
    "A class is called an Abstract class if it contains one or more abstract methods. An abstract method is a method that is declared, but contains no implementation. Abstract classes may not be instantiated, and its abstract methods must be implemented by its subclasses.\n",
    "\n",
    " The 'abc' module in Python library provides the infrastructure for defining custom abstract base classes.\n",
    "\n",
    "'abc' works by marking methods of the base class as abstract. This is done by @absttractmethod decorator. \n",
    "\n",
    "A concrete class which is a sub class of such abstract base class then implements the abstract base by overriding its abstract methods."
   ]
  },
  {
   "cell_type": "code",
   "execution_count": 8,
   "id": "331f4f13-2568-4bd3-86df-283b13e13549",
   "metadata": {},
   "outputs": [
    {
     "name": "stdout",
     "output_type": "stream",
     "text": [
      "area of rectangle is  200\n"
     ]
    }
   ],
   "source": [
    "import abc\n",
    "class Shape:\n",
    "   @abc.abstractmethod\n",
    "   def area(self):\n",
    "      pass\n",
    "class Rectangle(Shape):\n",
    "   def __init__(self, x,y):\n",
    "      self.l = x\n",
    "      self.b = y\n",
    "   def area(self):\n",
    "      area_rectangle = self.l*self.b\n",
    "      print (\"area of rectangle is \", area_rectangle )\n",
    "r = Rectangle(10,20)\n",
    "r.area()"
   ]
  },
  {
   "cell_type": "markdown",
   "id": "3c129150-7535-4d4a-8c2e-c33fe08442e8",
   "metadata": {},
   "source": [
    "Q4. How can we achieve data abstraction?"
   ]
  },
  {
   "cell_type": "markdown",
   "id": "910ef7c4-9675-48b5-b668-a4838af2d819",
   "metadata": {},
   "source": [
    "Data Abstraction in Python can be achieved through creating abstract classes and inheriting them later. Before discussing what abstract classes are, let us have a brief introduction of inheritance.\n",
    "\n",
    "Abstract Class:\n",
    "\n",
    "The classes that cannot be instantiated. This means that we cannot create objects of an abstract class and these are only meant to be inherited. Then an object of the derived class is used to access the features of the base class. These are specifically defined to lay a foundation of other classes that exhibit common behavior or characteristics."
   ]
  },
  {
   "cell_type": "markdown",
   "id": "9216d1e7-8b37-4ccc-a861-c2fc0cb2e72f",
   "metadata": {},
   "source": [
    "Q5. Can we create an instance of an abstract class? Explain your answer."
   ]
  },
  {
   "cell_type": "markdown",
   "id": "a3e5b100-5d0f-40de-85e5-25c12ca42a40",
   "metadata": {},
   "source": [
    "NO, we can't create an instance of an abstract class\n",
    "\n",
    "Abstract classes are not complete, as they may have some methods that are not defined. So we cannot create an instance or object of an abstract class in Python.\n",
    "\n",
    "Data Abstraction in Python is the process of hiding the real implementation of an application from the user and emphasizing only on usage of it.\n",
    "\n",
    "Basically, Abstraction focuses on hiding the internal implementations of a process or method from the user. In this way, the user knows what he is doing but not how the work is being done.\n",
    "\n",
    "\n",
    "\n",
    "Syntax:\n",
    "  import abc\n",
    "  Class ClassName(ABC):"
   ]
  },
  {
   "cell_type": "code",
   "execution_count": null,
   "id": "d2671f9c-4240-4220-8d14-bde30187fa6c",
   "metadata": {},
   "outputs": [],
   "source": []
  }
 ],
 "metadata": {
  "kernelspec": {
   "display_name": "Python 3 (ipykernel)",
   "language": "python",
   "name": "python3"
  },
  "language_info": {
   "codemirror_mode": {
    "name": "ipython",
    "version": 3
   },
   "file_extension": ".py",
   "mimetype": "text/x-python",
   "name": "python",
   "nbconvert_exporter": "python",
   "pygments_lexer": "ipython3",
   "version": "3.10.8"
  }
 },
 "nbformat": 4,
 "nbformat_minor": 5
}
